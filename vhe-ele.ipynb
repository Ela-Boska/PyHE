{
 "cells": [
  {
   "cell_type": "code",
   "execution_count": 1,
   "metadata": {},
   "outputs": [],
   "source": [
    "import vhe\n",
    "import numpy as np\n",
    "import time\n",
    "import decimal,math\n",
    "decimal.getcontext().prec = 33\n",
    "double = np.vectorize(decimal.Decimal,[object])\n",
    "floor = np.vectorize(math.floor,[object])\n",
    "\n",
    "def round(tensor):\n",
    "    Floor = floor(tensor)\n",
    "    delta = tensor - Floor\n",
    "    return Floor + (delta>=0.5)\n",
    "\n",
    "HE = vhe.HE()\n",
    "length = 5\n",
    "x0 = np.random.randn(3,32,32,length)\n",
    "x = round(x0*1000)"
   ]
  },
  {
   "cell_type": "code",
   "execution_count": 2,
   "metadata": {},
   "outputs": [],
   "source": [
    "T = HE.TGen(length)\n",
    "S = HE.getSecretkey(T)"
   ]
  },
  {
   "cell_type": "code",
   "execution_count": 3,
   "metadata": {},
   "outputs": [
    {
     "name": "stdout",
     "output_type": "stream",
     "text": [
      "time spent on creating bit vector: 0.1450643539428711s\n",
      "time spent on doting: 0.2800009250640869s\n",
      "time spent on creating I: 0.0s\n",
      "time spent on calculating M: 0.0s\n",
      "time spent on key switching: 0.42906618118286133s\n"
     ]
    }
   ],
   "source": [
    "c = HE.encrypt(T=T,x=x,batching=True,verbose=True)"
   ]
  },
  {
   "cell_type": "code",
   "execution_count": 4,
   "metadata": {},
   "outputs": [],
   "source": [
    "xx = HE.decrypt(S=S,c=c,batching=True)"
   ]
  },
  {
   "cell_type": "code",
   "execution_count": 5,
   "metadata": {},
   "outputs": [],
   "source": [
    "xx2 = HE.decrypt(S=S,c=2*c,batching=True)"
   ]
  },
  {
   "cell_type": "code",
   "execution_count": 8,
   "metadata": {},
   "outputs": [],
   "source": [
    "W = np.zeros(length**3,dtype=object).reshape(length,length,length)\n",
    "for i in range(length):\n",
    "    W[i,i,i] = 1\n",
    "W = double(W)"
   ]
  },
  {
   "cell_type": "code",
   "execution_count": 7,
   "metadata": {},
   "outputs": [
    {
     "data": {
      "text/plain": [
       "0.009968996047973633"
      ]
     },
     "execution_count": 7,
     "metadata": {},
     "output_type": "execute_result"
    }
   ],
   "source": [
    "t1 = time.time()\n",
    "M = HE.WeightedInnerProdClient(W,T)\n",
    "t2 = time.time()\n",
    "t2-t1"
   ]
  },
  {
   "cell_type": "code",
   "execution_count": 8,
   "metadata": {},
   "outputs": [
    {
     "name": "stdout",
     "output_type": "stream",
     "text": [
      "time spent on reshaping: 0.007998228073120117s\n",
      "time spent on rounding: 0.0579984188079834s\n",
      "time spent on doting: 8.863996744155884s\n"
     ]
    }
   ],
   "source": [
    "c4 = HE.innerProd(c,c,M,verbose=True)"
   ]
  },
  {
   "cell_type": "code",
   "execution_count": 9,
   "metadata": {},
   "outputs": [],
   "source": [
    "xx3 = HE.decrypt(S=S,c=c4,batching=True)"
   ]
  },
  {
   "cell_type": "code",
   "execution_count": 10,
   "metadata": {},
   "outputs": [
    {
     "data": {
      "text/plain": [
       "0"
      ]
     },
     "execution_count": 10,
     "metadata": {},
     "output_type": "execute_result"
    }
   ],
   "source": [
    "(xx3 - x**2).max()"
   ]
  },
  {
   "cell_type": "code",
   "execution_count": null,
   "metadata": {},
   "outputs": [],
   "source": []
  },
  {
   "cell_type": "code",
   "execution_count": 12,
   "metadata": {},
   "outputs": [
    {
     "data": {
      "text/plain": [
       "0.003396457269579045"
      ]
     },
     "execution_count": 12,
     "metadata": {},
     "output_type": "execute_result"
    }
   ],
   "source": [
    "(xx3/1e6 - x0**2).max()"
   ]
  },
  {
   "cell_type": "code",
   "execution_count": 13,
   "metadata": {},
   "outputs": [
    {
     "data": {
      "text/plain": [
       "-0.0030641774616260165"
      ]
     },
     "execution_count": 13,
     "metadata": {},
     "output_type": "execute_result"
    }
   ],
   "source": [
    "(xx3/1e6 - x0**2).min()"
   ]
  },
  {
   "cell_type": "code",
   "execution_count": 13,
   "metadata": {},
   "outputs": [],
   "source": []
  },
  {
   "cell_type": "code",
   "execution_count": 4,
   "metadata": {},
   "outputs": [],
   "source": [
    "x0 = np.random.randn(3*32*32,length)\n",
    "x = round(x0*1000)"
   ]
  },
  {
   "cell_type": "code",
   "execution_count": 5,
   "metadata": {},
   "outputs": [
    {
     "name": "stdout",
     "output_type": "stream",
     "text": [
      "time spent on creating bit vector: 0.14603185653686523s\n",
      "time spent on doting: 0.28299975395202637s\n",
      "time spent on creating I: 0.0s\n",
      "time spent on calculating M: 0.0009734630584716797s\n",
      "time spent on key switching: 0.4330289363861084s\n"
     ]
    }
   ],
   "source": [
    "c = HE.encrypt(T=T,x=x,batching=True,verbose=True)"
   ]
  },
  {
   "cell_type": "code",
   "execution_count": 6,
   "metadata": {},
   "outputs": [],
   "source": [
    "xx = HE.decrypt(S=S,c=c,batching=True)"
   ]
  },
  {
   "cell_type": "code",
   "execution_count": 9,
   "metadata": {},
   "outputs": [
    {
     "data": {
      "text/plain": [
       "0.009002447128295898"
      ]
     },
     "execution_count": 9,
     "metadata": {},
     "output_type": "execute_result"
    }
   ],
   "source": [
    "t1 = time.time()\n",
    "M = HE.WeightedInnerProdClient(W,T)\n",
    "t2 = time.time()\n",
    "t2-t1"
   ]
  },
  {
   "cell_type": "code",
   "execution_count": 10,
   "metadata": {},
   "outputs": [
    {
     "name": "stdout",
     "output_type": "stream",
     "text": [
      "time spent on reshaping: 0.0070002079010009766s\n",
      "time spent on rounding: 0.061000823974609375s\n",
      "time spent on doting: 8.841999530792236s\n"
     ]
    }
   ],
   "source": [
    "c4 = HE.innerProd(c,c,M,verbose=True)"
   ]
  },
  {
   "cell_type": "code",
   "execution_count": 19,
   "metadata": {},
   "outputs": [],
   "source": [
    "xx3 = HE.decrypt(S=S,c=c4,batching=True)"
   ]
  },
  {
   "cell_type": "code",
   "execution_count": 20,
   "metadata": {},
   "outputs": [
    {
     "data": {
      "text/plain": [
       "0"
      ]
     },
     "execution_count": 20,
     "metadata": {},
     "output_type": "execute_result"
    }
   ],
   "source": [
    "(xx3 - x**2).max()"
   ]
  },
  {
   "cell_type": "code",
   "execution_count": 22,
   "metadata": {},
   "outputs": [
    {
     "data": {
      "text/plain": [
       "0.003348624209589701"
      ]
     },
     "execution_count": 22,
     "metadata": {},
     "output_type": "execute_result"
    }
   ],
   "source": [
    "(xx3/1e6 - x0**2).max()"
   ]
  },
  {
   "cell_type": "code",
   "execution_count": 11,
   "metadata": {},
   "outputs": [],
   "source": [
    "a = np.random.rand(3072,3600)\n",
    "b = np.random.rand(3600,6)"
   ]
  },
  {
   "cell_type": "code",
   "execution_count": 12,
   "metadata": {},
   "outputs": [
    {
     "name": "stdout",
     "output_type": "stream",
     "text": [
      "0.19704627990722656\n"
     ]
    }
   ],
   "source": [
    "t1 = time.time()\n",
    "a.dot(b)\n",
    "t2 = time.time()\n",
    "print(t2-t1)"
   ]
  },
  {
   "cell_type": "code",
   "execution_count": 15,
   "metadata": {},
   "outputs": [
    {
     "name": "stdout",
     "output_type": "stream",
     "text": [
      "16.040008306503296\n"
     ]
    }
   ],
   "source": [
    "a = a.astype(object)\n",
    "b = b.astype(object)\n",
    "a = a*14236434\n",
    "b = b*12344241\n",
    "a = double(a)\n",
    "b = double(b)\n",
    "t1 = time.time()\n",
    "a.dot(b)\n",
    "t2 = time.time()\n",
    "print(t2-t1)"
   ]
  },
  {
   "cell_type": "code",
   "execution_count": 19,
   "metadata": {},
   "outputs": [],
   "source": [
    "import torch"
   ]
  },
  {
   "cell_type": "code",
   "execution_count": 20,
   "metadata": {},
   "outputs": [],
   "source": [
    "a = torch.nn.Linear(12,23)"
   ]
  },
  {
   "cell_type": "code",
   "execution_count": 21,
   "metadata": {},
   "outputs": [
    {
     "data": {
      "text/plain": [
       "torch.Size([23, 12])"
      ]
     },
     "execution_count": 21,
     "metadata": {},
     "output_type": "execute_result"
    }
   ],
   "source": [
    "a.weight.shape"
   ]
  },
  {
   "cell_type": "code",
   "execution_count": null,
   "metadata": {},
   "outputs": [],
   "source": []
  }
 ],
 "metadata": {
  "kernelspec": {
   "display_name": "Python 3",
   "language": "python",
   "name": "python3"
  },
  "language_info": {
   "codemirror_mode": {
    "name": "ipython",
    "version": 3
   },
   "file_extension": ".py",
   "mimetype": "text/x-python",
   "name": "python",
   "nbconvert_exporter": "python",
   "pygments_lexer": "ipython3",
   "version": "3.7.0"
  }
 },
 "nbformat": 4,
 "nbformat_minor": 2
}
