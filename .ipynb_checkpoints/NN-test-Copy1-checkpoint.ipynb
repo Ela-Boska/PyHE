{
 "cells": [
  {
   "cell_type": "code",
   "execution_count": 1,
   "metadata": {},
   "outputs": [],
   "source": [
    "import HElib\n",
    "import torch\n",
    "import NN\n",
    "import torch_model\n",
    "batch_size = 100\n",
    "scale = 1000\n",
    "group = 5"
   ]
  },
  {
   "cell_type": "code",
   "execution_count": 2,
   "metadata": {},
   "outputs": [],
   "source": [
    "HE = HElib.HE(w=2**22,l=60,eBound=1000,aBound=1000)\n",
    "T = HE.TGen(batch_size//group,'cuda')\n",
    "S = HE.getSecretkey(T)"
   ]
  },
  {
   "cell_type": "code",
   "execution_count": 3,
   "metadata": {},
   "outputs": [
    {
     "name": "stderr",
     "output_type": "stream",
     "text": [
      "G:\\Anaconda\\lib\\site-packages\\torch\\serialization.py:425: SourceChangeWarning: source code of class 'NN.polynomial' has changed. you can retrieve the original source code by accessing the object's source attribute or set `torch.nn.Module.dump_patches = True` and use the patch tool to revert the changes.\n",
      "  warnings.warn(msg, SourceChangeWarning)\n",
      "G:\\Anaconda\\lib\\site-packages\\torch\\serialization.py:425: SourceChangeWarning: source code of class 'NN.Conv' has changed. you can retrieve the original source code by accessing the object's source attribute or set `torch.nn.Module.dump_patches = True` and use the patch tool to revert the changes.\n",
      "  warnings.warn(msg, SourceChangeWarning)\n"
     ]
    }
   ],
   "source": [
    "network = torch.load('cryptoNN-l=2.pth')\n",
    "network.build(HE=HE,T=T,scale=scale,group=group)"
   ]
  },
  {
   "cell_type": "code",
   "execution_count": 4,
   "metadata": {},
   "outputs": [
    {
     "data": {
      "text/plain": [
       "torch.Size([120, 32, 1, 1])"
      ]
     },
     "execution_count": 4,
     "metadata": {},
     "output_type": "execute_result"
    }
   ],
   "source": [
    "network.layers[0].bias_encrypted.shape"
   ]
  },
  {
   "cell_type": "code",
   "execution_count": 5,
   "metadata": {},
   "outputs": [
    {
     "ename": "RuntimeError",
     "evalue": "CUDA error: out of memory",
     "output_type": "error",
     "traceback": [
      "\u001b[1;31m---------------------------------------------------------------------------\u001b[0m",
      "\u001b[1;31mRuntimeError\u001b[0m                              Traceback (most recent call last)",
      "\u001b[1;32m<ipython-input-5-57050ed41d7a>\u001b[0m in \u001b[0;36m<module>\u001b[1;34m()\u001b[0m\n\u001b[1;32m----> 1\u001b[1;33m \u001b[0mtorch_model\u001b[0m\u001b[1;33m.\u001b[0m\u001b[0mencrypted_validate\u001b[0m\u001b[1;33m(\u001b[0m\u001b[0mmodel\u001b[0m\u001b[1;33m=\u001b[0m\u001b[0mnetwork\u001b[0m\u001b[1;33m,\u001b[0m\u001b[0mHE\u001b[0m\u001b[1;33m=\u001b[0m\u001b[0mHE\u001b[0m\u001b[1;33m,\u001b[0m\u001b[0mT\u001b[0m\u001b[1;33m=\u001b[0m\u001b[0mT\u001b[0m\u001b[1;33m,\u001b[0m\u001b[0mscale\u001b[0m\u001b[1;33m=\u001b[0m\u001b[0mscale\u001b[0m\u001b[1;33m,\u001b[0m\u001b[0mtest_dataloader\u001b[0m\u001b[1;33m=\u001b[0m\u001b[0mtorch_model\u001b[0m\u001b[1;33m.\u001b[0m\u001b[0mTestDataloader\u001b[0m\u001b[1;33m(\u001b[0m\u001b[1;36m100\u001b[0m\u001b[1;33m)\u001b[0m\u001b[1;33m,\u001b[0m\u001b[0mgroup\u001b[0m\u001b[1;33m=\u001b[0m\u001b[0mgroup\u001b[0m\u001b[1;33m,\u001b[0m\u001b[0muse_cuda\u001b[0m\u001b[1;33m=\u001b[0m\u001b[1;32mTrue\u001b[0m\u001b[1;33m,\u001b[0m\u001b[0mprint_every\u001b[0m\u001b[1;33m=\u001b[0m\u001b[1;36m10\u001b[0m\u001b[1;33m)\u001b[0m\u001b[1;33m\u001b[0m\u001b[0m\n\u001b[0m",
      "\u001b[1;32mF:\\Repositories\\PyHE\\torch_model.py\u001b[0m in \u001b[0;36mencrypted_validate\u001b[1;34m(model, test_dataloader, group, HE, T, scale, print_every, use_cuda)\u001b[0m\n\u001b[0;32m    121\u001b[0m             \u001b[0mc\u001b[0m \u001b[1;33m=\u001b[0m \u001b[0mc\u001b[0m\u001b[1;33m.\u001b[0m\u001b[0mview\u001b[0m\u001b[1;33m(\u001b[0m\u001b[0mshape\u001b[0m\u001b[1;33m[\u001b[0m\u001b[1;36m0\u001b[0m\u001b[1;33m]\u001b[0m\u001b[1;33m+\u001b[0m\u001b[0mgroup\u001b[0m\u001b[1;33m,\u001b[0m\u001b[1;33m*\u001b[0m\u001b[0mshape\u001b[0m\u001b[1;33m[\u001b[0m\u001b[1;36m1\u001b[0m\u001b[1;33m:\u001b[0m\u001b[1;33m]\u001b[0m\u001b[1;33m)\u001b[0m\u001b[1;33m\u001b[0m\u001b[0m\n\u001b[0;32m    122\u001b[0m             \u001b[0mlabel\u001b[0m \u001b[1;33m=\u001b[0m \u001b[0mlabel\u001b[0m\u001b[1;33m.\u001b[0m\u001b[0mcuda\u001b[0m\u001b[1;33m(\u001b[0m\u001b[1;33m)\u001b[0m\u001b[1;33m\u001b[0m\u001b[0m\n\u001b[1;32m--> 123\u001b[1;33m             \u001b[0mpredict\u001b[0m \u001b[1;33m=\u001b[0m \u001b[0mmodel\u001b[0m\u001b[1;33m.\u001b[0m\u001b[0mcrypted_forward\u001b[0m\u001b[1;33m(\u001b[0m\u001b[0mHE\u001b[0m\u001b[1;33m=\u001b[0m\u001b[0mHE\u001b[0m\u001b[1;33m,\u001b[0m\u001b[0minput\u001b[0m\u001b[1;33m=\u001b[0m\u001b[0mc\u001b[0m\u001b[1;33m)\u001b[0m\u001b[1;33m\u001b[0m\u001b[0m\n\u001b[0m\u001b[0;32m    124\u001b[0m             \u001b[0mpredict\u001b[0m \u001b[1;33m=\u001b[0m \u001b[0mpredict\u001b[0m\u001b[1;33m.\u001b[0m\u001b[0mview\u001b[0m\u001b[1;33m(\u001b[0m\u001b[0mshape\u001b[0m\u001b[1;33m[\u001b[0m\u001b[1;36m0\u001b[0m\u001b[1;33m]\u001b[0m\u001b[1;33m//\u001b[0m\u001b[0mgroup\u001b[0m\u001b[1;33m+\u001b[0m\u001b[1;36m1\u001b[0m\u001b[1;33m,\u001b[0m\u001b[1;33m-\u001b[0m\u001b[1;36m1\u001b[0m\u001b[1;33m)\u001b[0m\u001b[1;33m\u001b[0m\u001b[0m\n\u001b[0;32m    125\u001b[0m             \u001b[0mpredict\u001b[0m \u001b[1;33m=\u001b[0m \u001b[0mHE\u001b[0m\u001b[1;33m.\u001b[0m\u001b[0mdecrypt\u001b[0m\u001b[1;33m(\u001b[0m\u001b[0mS\u001b[0m\u001b[1;33m=\u001b[0m\u001b[0mS\u001b[0m\u001b[1;33m,\u001b[0m\u001b[0mc\u001b[0m\u001b[1;33m=\u001b[0m\u001b[0mpredict\u001b[0m\u001b[1;33m)\u001b[0m\u001b[1;33m/\u001b[0m\u001b[0mscale\u001b[0m\u001b[1;33m\u001b[0m\u001b[0m\n",
      "\u001b[1;32mF:\\Repositories\\PyHE\\NN.py\u001b[0m in \u001b[0;36mcrypted_forward\u001b[1;34m(self, input, HE)\u001b[0m\n\u001b[0;32m    163\u001b[0m                 \u001b[0minput\u001b[0m \u001b[1;33m=\u001b[0m \u001b[0mlayer\u001b[0m\u001b[1;33m.\u001b[0m\u001b[0mcrypted_forward\u001b[0m\u001b[1;33m(\u001b[0m\u001b[0minput\u001b[0m\u001b[1;33m)\u001b[0m\u001b[1;33m\u001b[0m\u001b[0m\n\u001b[0;32m    164\u001b[0m             \u001b[1;32melif\u001b[0m \u001b[0misinstance\u001b[0m\u001b[1;33m(\u001b[0m\u001b[0mlayer\u001b[0m\u001b[1;33m,\u001b[0m\u001b[0mpolynomial\u001b[0m\u001b[1;33m)\u001b[0m\u001b[1;33m:\u001b[0m\u001b[1;33m\u001b[0m\u001b[0m\n\u001b[1;32m--> 165\u001b[1;33m                 \u001b[0minput\u001b[0m \u001b[1;33m=\u001b[0m \u001b[0mlayer\u001b[0m\u001b[1;33m.\u001b[0m\u001b[0mcrypted_forward\u001b[0m\u001b[1;33m(\u001b[0m\u001b[0mHE\u001b[0m\u001b[1;33m,\u001b[0m\u001b[0minput\u001b[0m\u001b[1;33m)\u001b[0m\u001b[1;33m\u001b[0m\u001b[0m\n\u001b[0m\u001b[0;32m    166\u001b[0m             \u001b[1;32melse\u001b[0m\u001b[1;33m:\u001b[0m\u001b[1;33m\u001b[0m\u001b[0m\n\u001b[0;32m    167\u001b[0m                 \u001b[0minput\u001b[0m \u001b[1;33m=\u001b[0m \u001b[0mlayer\u001b[0m\u001b[1;33m(\u001b[0m\u001b[0minput\u001b[0m\u001b[1;33m)\u001b[0m\u001b[1;33m\u001b[0m\u001b[0m\n",
      "\u001b[1;32mF:\\Repositories\\PyHE\\NN.py\u001b[0m in \u001b[0;36mcrypted_forward\u001b[1;34m(self, HE, input)\u001b[0m\n\u001b[0;32m    124\u001b[0m         \u001b[0mans\u001b[0m\u001b[1;33m[\u001b[0m\u001b[1;36m1\u001b[0m\u001b[1;33m]\u001b[0m \u001b[1;33m=\u001b[0m \u001b[0minput\u001b[0m\u001b[1;33m\u001b[0m\u001b[0m\n\u001b[0;32m    125\u001b[0m         \u001b[1;32mfor\u001b[0m \u001b[0mi\u001b[0m \u001b[1;32min\u001b[0m \u001b[0mrange\u001b[0m\u001b[1;33m(\u001b[0m\u001b[1;36m1\u001b[0m\u001b[1;33m,\u001b[0m\u001b[0mself\u001b[0m\u001b[1;33m.\u001b[0m\u001b[0mdegree\u001b[0m\u001b[1;33m)\u001b[0m\u001b[1;33m:\u001b[0m\u001b[1;33m\u001b[0m\u001b[0m\n\u001b[1;32m--> 126\u001b[1;33m             \u001b[0mans\u001b[0m\u001b[1;33m[\u001b[0m\u001b[0mi\u001b[0m\u001b[1;33m+\u001b[0m\u001b[1;36m1\u001b[0m\u001b[1;33m]\u001b[0m \u001b[1;33m=\u001b[0m \u001b[0mHE\u001b[0m\u001b[1;33m.\u001b[0m\u001b[0minnerProd\u001b[0m\u001b[1;33m(\u001b[0m\u001b[0mans\u001b[0m\u001b[1;33m[\u001b[0m\u001b[0mi\u001b[0m\u001b[1;33m]\u001b[0m\u001b[1;33m,\u001b[0m\u001b[0minput\u001b[0m\u001b[1;33m,\u001b[0m\u001b[0mself\u001b[0m\u001b[1;33m.\u001b[0m\u001b[0mM\u001b[0m\u001b[1;33m)\u001b[0m\u001b[1;33m\u001b[0m\u001b[0m\n\u001b[0m\u001b[0;32m    127\u001b[0m         \u001b[0mans\u001b[0m \u001b[1;33m=\u001b[0m \u001b[0mans\u001b[0m\u001b[1;33m*\u001b[0m\u001b[0mself\u001b[0m\u001b[1;33m.\u001b[0m\u001b[0mscale_coe\u001b[0m\u001b[1;33m.\u001b[0m\u001b[0mview\u001b[0m\u001b[1;33m(\u001b[0m\u001b[0mshape\u001b[0m\u001b[1;33m)\u001b[0m\u001b[1;33m\u001b[0m\u001b[0m\n\u001b[0;32m    128\u001b[0m         \u001b[1;32mreturn\u001b[0m \u001b[0mtorch\u001b[0m\u001b[1;33m.\u001b[0m\u001b[0msum\u001b[0m\u001b[1;33m(\u001b[0m\u001b[0mans\u001b[0m\u001b[1;33m,\u001b[0m\u001b[1;36m0\u001b[0m\u001b[1;33m)\u001b[0m\u001b[1;33m.\u001b[0m\u001b[0mview\u001b[0m\u001b[1;33m(\u001b[0m\u001b[0minput_shape\u001b[0m\u001b[1;33m)\u001b[0m\u001b[1;33m\u001b[0m\u001b[0m\n",
      "\u001b[1;32mF:\\Repositories\\PyHE\\HElib.py\u001b[0m in \u001b[0;36minnerProd\u001b[1;34m(self, c1, c2, M, verbose)\u001b[0m\n\u001b[0;32m    139\u001b[0m             \u001b[1;32mif\u001b[0m \u001b[0mc1\u001b[0m\u001b[1;33m.\u001b[0m\u001b[0mdim\u001b[0m\u001b[1;33m(\u001b[0m\u001b[1;33m)\u001b[0m\u001b[1;33m!=\u001b[0m\u001b[1;36m2\u001b[0m\u001b[1;33m:\u001b[0m\u001b[1;33m\u001b[0m\u001b[0m\n\u001b[0;32m    140\u001b[0m                 \u001b[1;32mreturn\u001b[0m \u001b[0mM\u001b[0m\u001b[1;33m.\u001b[0m\u001b[0mmm\u001b[0m\u001b[1;33m(\u001b[0m\u001b[0mself\u001b[0m\u001b[1;33m.\u001b[0m\u001b[0mgetBitVector\u001b[0m\u001b[1;33m(\u001b[0m\u001b[0mcc\u001b[0m\u001b[1;33m)\u001b[0m\u001b[1;33m)\u001b[0m\u001b[1;33m.\u001b[0m\u001b[0mview\u001b[0m\u001b[1;33m(\u001b[0m\u001b[1;33m-\u001b[0m\u001b[1;36m1\u001b[0m\u001b[1;33m,\u001b[0m\u001b[1;33m*\u001b[0m\u001b[0mc1\u001b[0m\u001b[1;33m.\u001b[0m\u001b[0mshape\u001b[0m\u001b[1;33m[\u001b[0m\u001b[1;36m1\u001b[0m\u001b[1;33m:\u001b[0m\u001b[1;33m]\u001b[0m\u001b[1;33m)\u001b[0m\u001b[1;33m\u001b[0m\u001b[0m\n\u001b[1;32m--> 141\u001b[1;33m             \u001b[1;32mreturn\u001b[0m \u001b[0mM\u001b[0m\u001b[1;33m.\u001b[0m\u001b[0mmm\u001b[0m\u001b[1;33m(\u001b[0m\u001b[0mself\u001b[0m\u001b[1;33m.\u001b[0m\u001b[0mgetBitVector\u001b[0m\u001b[1;33m(\u001b[0m\u001b[0mcc\u001b[0m\u001b[1;33m)\u001b[0m\u001b[1;33m)\u001b[0m\u001b[1;33m\u001b[0m\u001b[0m\n\u001b[0m\u001b[0;32m    142\u001b[0m \u001b[1;33m\u001b[0m\u001b[0m\n\u001b[0;32m    143\u001b[0m     \u001b[1;32mdef\u001b[0m \u001b[0mTGen\u001b[0m\u001b[1;33m(\u001b[0m\u001b[0mself\u001b[0m\u001b[1;33m,\u001b[0m\u001b[0mm\u001b[0m\u001b[1;33m,\u001b[0m\u001b[0mdevice\u001b[0m\u001b[1;33m)\u001b[0m\u001b[1;33m:\u001b[0m\u001b[1;33m\u001b[0m\u001b[0m\n",
      "\u001b[1;32mF:\\Repositories\\PyHE\\HElib.py\u001b[0m in \u001b[0;36mgetBitVector\u001b[1;34m(self, vector)\u001b[0m\n\u001b[0;32m     58\u001b[0m         \u001b[0mshape\u001b[0m \u001b[1;33m=\u001b[0m \u001b[0mvector\u001b[0m\u001b[1;33m.\u001b[0m\u001b[0mshape\u001b[0m\u001b[1;33m\u001b[0m\u001b[0m\n\u001b[0;32m     59\u001b[0m         ans = torch.zeros([shape[0],self.l,*shape[1:]],dtype=vector.dtype,\n\u001b[1;32m---> 60\u001b[1;33m                 device=vector.device)\n\u001b[0m\u001b[0;32m     61\u001b[0m         \u001b[0mmask\u001b[0m \u001b[1;33m=\u001b[0m \u001b[1;33m(\u001b[0m\u001b[1;36m2\u001b[0m\u001b[1;33m*\u001b[0m\u001b[1;33m(\u001b[0m\u001b[0mvector\u001b[0m\u001b[1;33m>=\u001b[0m\u001b[1;36m0\u001b[0m\u001b[1;33m)\u001b[0m\u001b[1;33m.\u001b[0m\u001b[0mtype\u001b[0m\u001b[1;33m(\u001b[0m\u001b[0mvector\u001b[0m\u001b[1;33m.\u001b[0m\u001b[0mdtype\u001b[0m\u001b[1;33m)\u001b[0m\u001b[1;33m-\u001b[0m\u001b[1;36m1\u001b[0m\u001b[1;33m)\u001b[0m\u001b[1;33m\u001b[0m\u001b[0m\n\u001b[0;32m     62\u001b[0m         \u001b[0mtemp\u001b[0m \u001b[1;33m=\u001b[0m \u001b[0mvector\u001b[0m\u001b[1;33m*\u001b[0m\u001b[0mmask\u001b[0m\u001b[1;33m\u001b[0m\u001b[0m\n",
      "\u001b[1;31mRuntimeError\u001b[0m: CUDA error: out of memory"
     ]
    }
   ],
   "source": [
    "torch_model.encrypted_validate(model=network,HE=HE,T=T,scale=scale,test_dataloader=torch_model.TestDataloader(100),group=group,use_cuda=True,print_every=10)"
   ]
  },
  {
   "cell_type": "code",
   "execution_count": null,
   "metadata": {},
   "outputs": [],
   "source": []
  },
  {
   "cell_type": "code",
   "execution_count": null,
   "metadata": {},
   "outputs": [],
   "source": []
  },
  {
   "cell_type": "code",
   "execution_count": 7,
   "metadata": {},
   "outputs": [
    {
     "name": "stdout",
     "output_type": "stream",
     "text": [
      "iter 10, correct = 50, total = 50\n",
      "iter 20, correct = 99, total = 100\n",
      "iter 30, correct = 149, total = 150\n",
      "iter 40, correct = 198, total = 200\n",
      "iter 50, correct = 248, total = 250\n",
      "iter 60, correct = 298, total = 300\n",
      "iter 70, correct = 348, total = 350\n",
      "iter 80, correct = 398, total = 400\n",
      "iter 90, correct = 448, total = 450\n",
      "iter 100, correct = 498, total = 500\n",
      "iter 110, correct = 547, total = 550\n",
      "iter 120, correct = 595, total = 600\n",
      "iter 130, correct = 645, total = 650\n",
      "iter 140, correct = 695, total = 700\n",
      "iter 150, correct = 744, total = 750\n",
      "iter 160, correct = 794, total = 800\n",
      "iter 170, correct = 844, total = 850\n",
      "iter 180, correct = 894, total = 900\n",
      "iter 190, correct = 944, total = 950\n",
      "iter 200, correct = 994, total = 1000\n",
      "iter 210, correct = 1043, total = 1050\n",
      "iter 220, correct = 1093, total = 1100\n",
      "iter 230, correct = 1143, total = 1150\n",
      "iter 240, correct = 1193, total = 1200\n",
      "iter 250, correct = 1243, total = 1250\n",
      "iter 260, correct = 1293, total = 1300\n",
      "iter 270, correct = 1342, total = 1350\n",
      "iter 280, correct = 1392, total = 1400\n",
      "iter 290, correct = 1442, total = 1450\n",
      "iter 300, correct = 1492, total = 1500\n",
      "iter 310, correct = 1542, total = 1550\n",
      "iter 320, correct = 1592, total = 1600\n",
      "iter 330, correct = 1641, total = 1650\n",
      "iter 340, correct = 1691, total = 1700\n",
      "iter 350, correct = 1740, total = 1750\n",
      "iter 360, correct = 1790, total = 1800\n",
      "iter 370, correct = 1840, total = 1850\n",
      "iter 380, correct = 1890, total = 1900\n",
      "iter 390, correct = 1939, total = 1950\n",
      "iter 400, correct = 1989, total = 2000\n",
      "iter 410, correct = 2039, total = 2050\n",
      "iter 420, correct = 2089, total = 2100\n",
      "iter 430, correct = 2138, total = 2150\n",
      "iter 440, correct = 2188, total = 2200\n",
      "iter 450, correct = 2238, total = 2250\n",
      "iter 460, correct = 2288, total = 2300\n",
      "iter 470, correct = 2338, total = 2350\n",
      "iter 480, correct = 2387, total = 2400\n",
      "iter 490, correct = 2437, total = 2450\n",
      "iter 500, correct = 2487, total = 2500\n",
      "iter 510, correct = 2537, total = 2550\n",
      "iter 520, correct = 2587, total = 2600\n",
      "iter 530, correct = 2637, total = 2650\n",
      "iter 540, correct = 2687, total = 2700\n",
      "iter 550, correct = 2737, total = 2750\n",
      "iter 560, correct = 2787, total = 2800\n",
      "iter 570, correct = 2837, total = 2850\n",
      "iter 580, correct = 2887, total = 2900\n",
      "iter 590, correct = 2937, total = 2950\n",
      "iter 600, correct = 2986, total = 3000\n",
      "iter 610, correct = 3036, total = 3050\n",
      "iter 620, correct = 3086, total = 3100\n",
      "iter 630, correct = 3136, total = 3150\n",
      "iter 640, correct = 3186, total = 3200\n",
      "iter 650, correct = 3236, total = 3250\n",
      "iter 660, correct = 3286, total = 3300\n",
      "iter 670, correct = 3336, total = 3350\n",
      "iter 680, correct = 3386, total = 3400\n",
      "iter 690, correct = 3436, total = 3450\n",
      "iter 700, correct = 3485, total = 3500\n",
      "iter 710, correct = 3535, total = 3550\n",
      "iter 720, correct = 3585, total = 3600\n",
      "iter 730, correct = 3635, total = 3650\n",
      "iter 740, correct = 3685, total = 3700\n",
      "iter 750, correct = 3735, total = 3750\n",
      "iter 760, correct = 3785, total = 3800\n",
      "iter 770, correct = 3835, total = 3850\n",
      "iter 780, correct = 3885, total = 3900\n",
      "iter 790, correct = 3935, total = 3950\n",
      "iter 800, correct = 3985, total = 4000\n",
      "iter 810, correct = 4035, total = 4050\n",
      "iter 820, correct = 4085, total = 4100\n",
      "iter 830, correct = 4135, total = 4150\n",
      "iter 840, correct = 4185, total = 4200\n",
      "iter 850, correct = 4235, total = 4250\n",
      "iter 860, correct = 4284, total = 4300\n",
      "iter 870, correct = 4334, total = 4350\n",
      "iter 880, correct = 4384, total = 4400\n",
      "iter 890, correct = 4434, total = 4450\n",
      "iter 900, correct = 4484, total = 4500\n",
      "iter 910, correct = 4533, total = 4550\n",
      "iter 920, correct = 4583, total = 4600\n",
      "iter 930, correct = 4633, total = 4650\n",
      "iter 940, correct = 4683, total = 4700\n",
      "iter 950, correct = 4732, total = 4750\n",
      "iter 960, correct = 4781, total = 4800\n",
      "iter 970, correct = 4831, total = 4850\n",
      "iter 980, correct = 4880, total = 4900\n",
      "iter 990, correct = 4930, total = 4950\n",
      "iter 1000, correct = 4980, total = 5000\n",
      "iter 1010, correct = 5030, total = 5050\n",
      "iter 1020, correct = 5080, total = 5100\n",
      "iter 1030, correct = 5129, total = 5150\n",
      "iter 1040, correct = 5178, total = 5200\n",
      "iter 1050, correct = 5228, total = 5250\n",
      "iter 1060, correct = 5278, total = 5300\n",
      "iter 1070, correct = 5328, total = 5350\n",
      "iter 1080, correct = 5378, total = 5400\n",
      "iter 1090, correct = 5428, total = 5450\n",
      "iter 1100, correct = 5478, total = 5500\n",
      "iter 1110, correct = 5528, total = 5550\n",
      "iter 1120, correct = 5577, total = 5600\n",
      "iter 1130, correct = 5627, total = 5650\n",
      "iter 1140, correct = 5676, total = 5700\n",
      "iter 1150, correct = 5726, total = 5750\n",
      "iter 1160, correct = 5776, total = 5800\n",
      "iter 1170, correct = 5826, total = 5850\n",
      "iter 1180, correct = 5876, total = 5900\n",
      "iter 1190, correct = 5926, total = 5950\n",
      "iter 1200, correct = 5976, total = 6000\n",
      "iter 1210, correct = 6026, total = 6050\n",
      "iter 1220, correct = 6075, total = 6100\n",
      "iter 1230, correct = 6125, total = 6150\n",
      "iter 1240, correct = 6175, total = 6200\n",
      "iter 1250, correct = 6225, total = 6250\n",
      "iter 1260, correct = 6275, total = 6300\n",
      "iter 1270, correct = 6325, total = 6350\n",
      "iter 1280, correct = 6375, total = 6400\n",
      "iter 1290, correct = 6425, total = 6450\n",
      "iter 1300, correct = 6475, total = 6500\n",
      "iter 1310, correct = 6525, total = 6550\n",
      "iter 1320, correct = 6575, total = 6600\n",
      "iter 1330, correct = 6625, total = 6650\n",
      "iter 1340, correct = 6674, total = 6700\n",
      "iter 1350, correct = 6723, total = 6750\n",
      "iter 1360, correct = 6773, total = 6800\n",
      "iter 1370, correct = 6823, total = 6850\n",
      "iter 1380, correct = 6873, total = 6900\n",
      "iter 1390, correct = 6923, total = 6950\n",
      "iter 1400, correct = 6972, total = 7000\n",
      "iter 1410, correct = 7022, total = 7050\n",
      "iter 1420, correct = 7071, total = 7100\n",
      "iter 1430, correct = 7121, total = 7150\n",
      "iter 1440, correct = 7171, total = 7200\n",
      "iter 1450, correct = 7221, total = 7250\n",
      "iter 1460, correct = 7271, total = 7300\n",
      "iter 1470, correct = 7320, total = 7350\n",
      "iter 1480, correct = 7370, total = 7400\n",
      "iter 1490, correct = 7420, total = 7450\n",
      "iter 1500, correct = 7470, total = 7500\n",
      "iter 1510, correct = 7520, total = 7550\n",
      "iter 1520, correct = 7570, total = 7600\n",
      "iter 1530, correct = 7620, total = 7650\n",
      "iter 1540, correct = 7670, total = 7700\n",
      "iter 1550, correct = 7720, total = 7750\n",
      "iter 1560, correct = 7770, total = 7800\n",
      "iter 1570, correct = 7820, total = 7850\n",
      "iter 1580, correct = 7870, total = 7900\n",
      "iter 1590, correct = 7920, total = 7950\n",
      "iter 1600, correct = 7970, total = 8000\n",
      "iter 1610, correct = 8020, total = 8050\n",
      "iter 1620, correct = 8070, total = 8100\n",
      "iter 1630, correct = 8119, total = 8150\n",
      "iter 1640, correct = 8169, total = 8200\n",
      "iter 1650, correct = 8219, total = 8250\n",
      "iter 1660, correct = 8269, total = 8300\n",
      "iter 1670, correct = 8319, total = 8350\n",
      "iter 1680, correct = 8369, total = 8400\n",
      "iter 1690, correct = 8419, total = 8450\n",
      "iter 1700, correct = 8469, total = 8500\n",
      "iter 1710, correct = 8519, total = 8550\n",
      "iter 1720, correct = 8569, total = 8600\n",
      "iter 1730, correct = 8619, total = 8650\n",
      "iter 1740, correct = 8669, total = 8700\n",
      "iter 1750, correct = 8719, total = 8750\n",
      "iter 1760, correct = 8769, total = 8800\n",
      "iter 1770, correct = 8819, total = 8850\n",
      "iter 1780, correct = 8869, total = 8900\n",
      "iter 1790, correct = 8918, total = 8950\n",
      "iter 1800, correct = 8968, total = 9000\n",
      "iter 1810, correct = 9018, total = 9050\n",
      "iter 1820, correct = 9067, total = 9100\n",
      "iter 1830, correct = 9116, total = 9150\n",
      "iter 1840, correct = 9166, total = 9200\n",
      "iter 1850, correct = 9216, total = 9250\n",
      "iter 1860, correct = 9266, total = 9300\n",
      "iter 1870, correct = 9315, total = 9350\n",
      "iter 1880, correct = 9365, total = 9400\n",
      "iter 1890, correct = 9415, total = 9450\n",
      "iter 1900, correct = 9464, total = 9500\n",
      "iter 1910, correct = 9514, total = 9550\n",
      "iter 1920, correct = 9564, total = 9600\n",
      "iter 1930, correct = 9613, total = 9650\n",
      "iter 1940, correct = 9663, total = 9700\n",
      "iter 1950, correct = 9713, total = 9750\n",
      "iter 1960, correct = 9762, total = 9800\n",
      "iter 1970, correct = 9812, total = 9850\n",
      "iter 1980, correct = 9862, total = 9900\n",
      "iter 1990, correct = 9912, total = 9950\n",
      "iter 2000, correct = 9962, total = 10000\n"
     ]
    },
    {
     "data": {
      "text/plain": [
       "99.62"
      ]
     },
     "execution_count": 7,
     "metadata": {},
     "output_type": "execute_result"
    }
   ],
   "source": []
  },
  {
   "cell_type": "code",
   "execution_count": null,
   "metadata": {},
   "outputs": [],
   "source": []
  },
  {
   "cell_type": "code",
   "execution_count": null,
   "metadata": {},
   "outputs": [],
   "source": []
  },
  {
   "cell_type": "code",
   "execution_count": null,
   "metadata": {},
   "outputs": [],
   "source": []
  },
  {
   "cell_type": "code",
   "execution_count": null,
   "metadata": {},
   "outputs": [],
   "source": []
  },
  {
   "cell_type": "code",
   "execution_count": null,
   "metadata": {},
   "outputs": [],
   "source": []
  },
  {
   "cell_type": "code",
   "execution_count": null,
   "metadata": {},
   "outputs": [],
   "source": []
  },
  {
   "cell_type": "code",
   "execution_count": null,
   "metadata": {},
   "outputs": [],
   "source": []
  },
  {
   "cell_type": "code",
   "execution_count": 89,
   "metadata": {},
   "outputs": [
    {
     "name": "stdout",
     "output_type": "stream",
     "text": [
      "tensor(0.0000, dtype=torch.float64, grad_fn=<MeanBackward1>)\n",
      "tensor(0.0490, dtype=torch.float64, grad_fn=<MeanBackward1>)\n",
      "tensor(0.0022, dtype=torch.float64, grad_fn=<MeanBackward1>)\n",
      "tensor(0.0010, dtype=torch.float64, grad_fn=<MeanBackward1>)\n",
      "tensor(0.0128, dtype=torch.float64, grad_fn=<MeanBackward1>)\n",
      "tensor(0.0027, dtype=torch.float64, grad_fn=<MeanBackward1>)\n",
      "tensor(0.0027, dtype=torch.float64, grad_fn=<MeanBackward1>)\n",
      "tensor(0.0064, dtype=torch.float64, grad_fn=<MeanBackward1>)\n",
      "tensor(0.0022, dtype=torch.float64, grad_fn=<MeanBackward1>)\n"
     ]
    }
   ],
   "source": [
    "network.double()\n",
    "ans1             = network.layers[0](x)\n",
    "ans2             = network.layers[1](ans1)\n",
    "ans3             = network.layers[2](ans2)\n",
    "ans4             = network.layers[3](ans3)\n",
    "ans5             = network.layers[4](ans4)\n",
    "ans6             = network.layers[5](ans5)\n",
    "ans7             = network.layers[6](ans6)\n",
    "ans8             = network.layers[7](ans7)\n",
    "ans9             = network.layers[8](ans8)\n",
    "\n",
    "xx = scale*x\n",
    "c = HE.encrypt(x=xx,T=T)\n",
    "\n",
    "\n",
    "output1           = network.layers[0].crypted_forward(c)\n",
    "output2           = network.layers[1].crypted_forward(HE,output1)\n",
    "output3           = network.layers[2](output2)\n",
    "output4           = network.layers[3].crypted_forward(output3)\n",
    "output5           = network.layers[4].crypted_forward(HE,output4)\n",
    "output6           = network.layers[5](output5)\n",
    "output7           = network.layers[6].crypted_forward(output6)\n",
    "output8           = network.layers[7].crypted_forward(HE,output7)\n",
    "output9           = network.layers[8].crypted_forward(output8)\n",
    "\n",
    "\n",
    "ans21             = HE.decrypt(S=S,c=output1)/scale\n",
    "ans22             = HE.decrypt(S=S,c=output2)/scale\n",
    "ans23             = HE.decrypt(S=S,c=output3)/scale\n",
    "ans24             = HE.decrypt(S=S,c=output4)/scale\n",
    "ans25             = HE.decrypt(S=S,c=output5)/scale\n",
    "ans26             = HE.decrypt(S=S,c=output6)/scale\n",
    "ans27             = HE.decrypt(S=S,c=output7)/scale\n",
    "ans28             = HE.decrypt(S=S,c=output8)/scale\n",
    "ans29             = HE.decrypt(S=S,c=output9)/scale\n",
    "print(((ans1 -ans21)/(ans1.abs()+1e-4)).abs().mean())\n",
    "print(((ans2 -ans22)/(ans2.abs()+1e-4)).abs().mean())\n",
    "print(((ans3 -ans23)/(ans3.abs()+1e-4)).abs().mean())\n",
    "print(((ans4 -ans24)/(ans4.abs()+1e-4)).abs().mean())\n",
    "print(((ans5 -ans25)/(ans5.abs()+1e-4)).abs().mean())\n",
    "print(((ans6 -ans26)/(ans6.abs()+1e-4)).abs().mean())\n",
    "print(((ans7 -ans27)/(ans7.abs()+1e-4)).abs().mean())\n",
    "print(((ans8 -ans28)/(ans8.abs()+1e-4)).abs().mean())\n",
    "print(((ans9 -ans29)/(ans9.abs()+1e-4)).abs().mean())"
   ]
  },
  {
   "cell_type": "code",
   "execution_count": null,
   "metadata": {},
   "outputs": [],
   "source": []
  },
  {
   "cell_type": "code",
   "execution_count": null,
   "metadata": {},
   "outputs": [],
   "source": []
  },
  {
   "cell_type": "code",
   "execution_count": null,
   "metadata": {},
   "outputs": [],
   "source": []
  },
  {
   "cell_type": "code",
   "execution_count": null,
   "metadata": {},
   "outputs": [],
   "source": []
  },
  {
   "cell_type": "code",
   "execution_count": null,
   "metadata": {},
   "outputs": [],
   "source": []
  }
 ],
 "metadata": {
  "kernelspec": {
   "display_name": "Python 3",
   "language": "python",
   "name": "python3"
  },
  "language_info": {
   "codemirror_mode": {
    "name": "ipython",
    "version": 3
   },
   "file_extension": ".py",
   "mimetype": "text/x-python",
   "name": "python",
   "nbconvert_exporter": "python",
   "pygments_lexer": "ipython3",
   "version": "3.7.0"
  }
 },
 "nbformat": 4,
 "nbformat_minor": 2
}
