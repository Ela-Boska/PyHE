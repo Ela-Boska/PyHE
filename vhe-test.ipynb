{
 "cells": [
  {
   "cell_type": "code",
   "execution_count": 1,
   "metadata": {},
   "outputs": [],
   "source": [
    "import vhe\n",
    "import numpy as np\n",
    "HE = vhe.HE()\n",
    "x = np.arange(10).astype(object)"
   ]
  },
  {
   "cell_type": "code",
   "execution_count": null,
   "metadata": {},
   "outputs": [],
   "source": []
  },
  {
   "cell_type": "code",
   "execution_count": 2,
   "metadata": {},
   "outputs": [],
   "source": [
    "T = HE.TGen(10)\n",
    "S = HE.getSecretkey(T)"
   ]
  },
  {
   "cell_type": "code",
   "execution_count": 3,
   "metadata": {},
   "outputs": [],
   "source": [
    "c = HE.encrypt(T=T,x=x)"
   ]
  },
  {
   "cell_type": "code",
   "execution_count": 4,
   "metadata": {},
   "outputs": [
    {
     "data": {
      "text/plain": [
       "array([0, 2, 4, 6, 8, 10, 12, 14, 16, 18], dtype=object)"
      ]
     },
     "execution_count": 4,
     "metadata": {},
     "output_type": "execute_result"
    }
   ],
   "source": [
    "c1 = c*2\n",
    "HE.decrypt(S=S,c=c1)"
   ]
  },
  {
   "cell_type": "code",
   "execution_count": 14,
   "metadata": {},
   "outputs": [
    {
     "name": "stdout",
     "output_type": "stream",
     "text": [
      "[-0.49702134220979843 -0.004150460914226883 0.34248065328616306\n",
      " -0.3446315080647864 0.2899133514134036 0.46607300546373054\n",
      " 0.2267998373217246 -0.11115423404439895 -0.011432169607690668\n",
      " -0.09181479508070467]\n"
     ]
    }
   ],
   "source": [
    "G=np.random.rand(10,10)\n",
    "c2 = HE.linearTransform(HE.linearTransformClient(G,S,T),c)\n",
    "output1=HE.decrypt(S=S,c=c2)\n",
    "output2=G.dot(x)\n",
    "print(output2-output1)"
   ]
  },
  {
   "cell_type": "code",
   "execution_count": 16,
   "metadata": {},
   "outputs": [
    {
     "name": "stdout",
     "output_type": "stream",
     "text": [
      "[0.15041905249017873 -0.1350898623638841 -0.15127925560341282\n",
      " -0.34215050253169466 -0.2370981107251282 -0.2741594183594316\n",
      " -0.28771507320470846 -0.29448101674370264 -0.39156906725543195\n",
      " -0.26201164063331817]\n"
     ]
    }
   ],
   "source": [
    "G1=np.random.rand(120,10)\n",
    "G2=np.random.rand(10,120)\n",
    "T120=HE.TGen(120)\n",
    "S120=HE.getSecretkey(T120)\n",
    "c2 = HE.linearTransform(HE.linearTransformClient(G1,S,T120),c)\n",
    "c2 = HE.linearTransform(HE.linearTransformClient(G2,S120,T),c2)\n",
    "output1=HE.decrypt(S=S,c=c2)\n",
    "output2=G1.dot(x)\n",
    "output2=G2.dot(output2)\n",
    "print(output2-output1)"
   ]
  },
  {
   "cell_type": "code",
   "execution_count": 7,
   "metadata": {},
   "outputs": [
    {
     "data": {
      "text/plain": [
       "array([0, 1, 4, 9, 16, 25, 36, 49, 64, 81], dtype=object)"
      ]
     },
     "execution_count": 7,
     "metadata": {},
     "output_type": "execute_result"
    }
   ],
   "source": [
    "W = np.zeros(1000,dtype=object).reshape(10,10,10)\n",
    "for i in range(10):\n",
    "    W[i,i,i] = 1\n",
    "c4 = HE.innerProd(c,c,HE.WeightedInnerProdClient(W,T))\n",
    "HE.decrypt(S=S,c=c4)"
   ]
  },
  {
   "cell_type": "code",
   "execution_count": 8,
   "metadata": {},
   "outputs": [
    {
     "data": {
      "text/plain": [
       "array([0, 0, 1, 1, 2, 2, 3, 3, 4, 4, 5, 5, 6, 6, 7, 7, 8, 8, 9, 9],\n",
       "      dtype=object)"
      ]
     },
     "execution_count": 8,
     "metadata": {},
     "output_type": "execute_result"
    }
   ],
   "source": [
    "G2 = np.zeros((20,10))\n",
    "for i in range(10):\n",
    "    G2[2*i:2*i+2,i] = 1\n",
    "T_new = HE.TGen(20)\n",
    "S_new = HE.getSecretkey(T_new)\n",
    "c5 = HE.linearTransform(HE.linearTransformClient(G2,S,T_new),c)\n",
    "HE.decrypt(S=S_new,c=c5)"
   ]
  },
  {
   "cell_type": "code",
   "execution_count": 9,
   "metadata": {},
   "outputs": [
    {
     "data": {
      "text/plain": [
       "array([0, 2, 4, 6, 8], dtype=object)"
      ]
     },
     "execution_count": 9,
     "metadata": {},
     "output_type": "execute_result"
    }
   ],
   "source": [
    "G3 = np.zeros((5,10))\n",
    "for i in range(5):\n",
    "    G3[i,2*i] = 1\n",
    "T3 = HE.TGen(5)\n",
    "S3 = HE.getSecretkey(T3)\n",
    "c6 = HE.linearTransform(HE.linearTransformClient(G3,S,T3),c)\n",
    "HE.decrypt(S=S3,c=c6)"
   ]
  },
  {
   "cell_type": "code",
   "execution_count": null,
   "metadata": {},
   "outputs": [],
   "source": []
  },
  {
   "cell_type": "code",
   "execution_count": null,
   "metadata": {},
   "outputs": [],
   "source": []
  },
  {
   "cell_type": "code",
   "execution_count": null,
   "metadata": {},
   "outputs": [],
   "source": []
  },
  {
   "cell_type": "code",
   "execution_count": null,
   "metadata": {},
   "outputs": [],
   "source": []
  },
  {
   "cell_type": "code",
   "execution_count": null,
   "metadata": {},
   "outputs": [],
   "source": []
  },
  {
   "cell_type": "code",
   "execution_count": null,
   "metadata": {},
   "outputs": [],
   "source": []
  },
  {
   "cell_type": "code",
   "execution_count": null,
   "metadata": {},
   "outputs": [],
   "source": []
  },
  {
   "cell_type": "code",
   "execution_count": null,
   "metadata": {},
   "outputs": [],
   "source": []
  },
  {
   "cell_type": "code",
   "execution_count": null,
   "metadata": {},
   "outputs": [],
   "source": []
  },
  {
   "cell_type": "code",
   "execution_count": null,
   "metadata": {},
   "outputs": [],
   "source": []
  },
  {
   "cell_type": "code",
   "execution_count": null,
   "metadata": {},
   "outputs": [],
   "source": []
  },
  {
   "cell_type": "code",
   "execution_count": null,
   "metadata": {},
   "outputs": [],
   "source": []
  }
 ],
 "metadata": {
  "kernelspec": {
   "display_name": "Python 3",
   "language": "python",
   "name": "python3"
  },
  "language_info": {
   "codemirror_mode": {
    "name": "ipython",
    "version": 3
   },
   "file_extension": ".py",
   "mimetype": "text/x-python",
   "name": "python",
   "nbconvert_exporter": "python",
   "pygments_lexer": "ipython3",
   "version": "3.7.0"
  }
 },
 "nbformat": 4,
 "nbformat_minor": 2
}
