{
 "cells": [
  {
   "cell_type": "code",
   "execution_count": 1,
   "metadata": {},
   "outputs": [],
   "source": [
    "%matplotlib inline\n",
    "import HElib\n",
    "import torch\n",
    "import NN\n",
    "from torch import nn\n",
    "import Chev\n",
    "batch_size = 5\n",
    "scale = 1000"
   ]
  },
  {
   "cell_type": "code",
   "execution_count": 2,
   "metadata": {},
   "outputs": [],
   "source": [
    "HE = HElib.HE(w=2**19,l=50,eBound=1000,aBound=1000)\n",
    "T = HE.TGen(batch_size,'cpu')\n",
    "S = HE.getSecretkey(T)"
   ]
  },
  {
   "cell_type": "code",
   "execution_count": 3,
   "metadata": {},
   "outputs": [
    {
     "data": {
      "text/plain": [
       "tensor(-0.0013, dtype=torch.float64, grad_fn=<DivBackward1>)"
      ]
     },
     "execution_count": 3,
     "metadata": {},
     "output_type": "execute_result"
    }
   ],
   "source": [
    "x = torch.randn(batch_size,7*7*64).type(torch.float64)\n",
    "xx = scale*x\n",
    "c = HE.encrypt(x=xx,T=T)\n",
    "fc1 = NN.Dense(in_features=7*7*64,out_features=1024).double()\n",
    "fc1.build(HE,T,scale)\n",
    "x1 = fc1(x)\n",
    "c1 = fc1.crypted_forward(c)\n",
    "x_1 = HE.decrypt(S=S,c=c1)/scale\n",
    "(x1-x_1).mean()/x1.mean()"
   ]
  },
  {
   "cell_type": "code",
   "execution_count": 4,
   "metadata": {},
   "outputs": [
    {
     "data": {
      "text/plain": [
       "tensor(0.0021, dtype=torch.float64, grad_fn=<DivBackward1>)"
      ]
     },
     "execution_count": 4,
     "metadata": {},
     "output_type": "execute_result"
    }
   ],
   "source": [
    "x = torch.randn(batch_size,32,28,28).type(torch.float64)\n",
    "xx = scale*x\n",
    "c = HE.encrypt(x=xx,T=T)\n",
    "conv1 = NN.Conv(in_channels=32,out_channels=64,kernel_size=3,padding=1,stride=1,bias=True).double()\n",
    "conv1.build(HE,T,scale)\n",
    "x1 = conv1(x)\n",
    "c1 = conv1.crypted_forward(c)\n",
    "x_1 = HE.decrypt(S=S,c=c1)/scale\n",
    "(x1-x_1).mean()/x1.mean()"
   ]
  },
  {
   "cell_type": "code",
   "execution_count": 5,
   "metadata": {},
   "outputs": [
    {
     "data": {
      "text/plain": [
       "tensor(-0.0030, dtype=torch.float64)"
      ]
     },
     "execution_count": 5,
     "metadata": {},
     "output_type": "execute_result"
    }
   ],
   "source": [
    "x = torch.randn(batch_size,32,28,28).type(torch.float64)\n",
    "xx = scale*x\n",
    "c = HE.encrypt(x=xx,T=T)\n",
    "relu = NN.polynomial(coe=[1/4,1/2,1/4])\n",
    "relu.build(HE=HE,T=T,scale=scale)\n",
    "x1 = relu(x)\n",
    "c1 = relu.crypted_forward(HE,c)\n",
    "x_1 = HE.decrypt(S=S,c=c1)/scale\n",
    "(x1-x_1).mean()/x1.mean()"
   ]
  },
  {
   "cell_type": "code",
   "execution_count": null,
   "metadata": {},
   "outputs": [],
   "source": [
    "net"
   ]
  },
  {
   "cell_type": "code",
   "execution_count": null,
   "metadata": {},
   "outputs": [],
   "source": []
  },
  {
   "cell_type": "code",
   "execution_count": null,
   "metadata": {},
   "outputs": [],
   "source": []
  },
  {
   "cell_type": "code",
   "execution_count": null,
   "metadata": {},
   "outputs": [],
   "source": []
  },
  {
   "cell_type": "code",
   "execution_count": null,
   "metadata": {},
   "outputs": [],
   "source": []
  },
  {
   "cell_type": "code",
   "execution_count": null,
   "metadata": {},
   "outputs": [],
   "source": []
  },
  {
   "cell_type": "code",
   "execution_count": null,
   "metadata": {},
   "outputs": [],
   "source": []
  },
  {
   "cell_type": "code",
   "execution_count": null,
   "metadata": {},
   "outputs": [],
   "source": []
  },
  {
   "cell_type": "code",
   "execution_count": null,
   "metadata": {},
   "outputs": [],
   "source": []
  },
  {
   "cell_type": "code",
   "execution_count": null,
   "metadata": {},
   "outputs": [],
   "source": []
  },
  {
   "cell_type": "code",
   "execution_count": 8,
   "metadata": {},
   "outputs": [],
   "source": []
  },
  {
   "cell_type": "code",
   "execution_count": 9,
   "metadata": {},
   "outputs": [],
   "source": []
  },
  {
   "cell_type": "code",
   "execution_count": null,
   "metadata": {},
   "outputs": [],
   "source": []
  },
  {
   "cell_type": "code",
   "execution_count": null,
   "metadata": {},
   "outputs": [],
   "source": []
  },
  {
   "cell_type": "code",
   "execution_count": null,
   "metadata": {},
   "outputs": [],
   "source": []
  },
  {
   "cell_type": "code",
   "execution_count": null,
   "metadata": {},
   "outputs": [],
   "source": []
  },
  {
   "cell_type": "code",
   "execution_count": null,
   "metadata": {},
   "outputs": [],
   "source": []
  }
 ],
 "metadata": {
  "kernelspec": {
   "display_name": "Python 3",
   "language": "python",
   "name": "python3"
  },
  "language_info": {
   "codemirror_mode": {
    "name": "ipython",
    "version": 3
   },
   "file_extension": ".py",
   "mimetype": "text/x-python",
   "name": "python",
   "nbconvert_exporter": "python",
   "pygments_lexer": "ipython3",
   "version": "3.7.0"
  }
 },
 "nbformat": 4,
 "nbformat_minor": 2
}
